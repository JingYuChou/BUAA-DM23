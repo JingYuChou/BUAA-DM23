{
 "cells": [
  {
   "cell_type": "markdown",
   "metadata": {},
   "source": [
    "一些预处理，主要是让eta_schedule中没有空行."
   ]
  },
  {
   "cell_type": "code",
   "execution_count": 1,
   "metadata": {},
   "outputs": [],
   "source": [
    "import numpy as np\n",
    "import pandas as pd\n",
    "\n",
    "task_df = pd.read_csv(\"../database/data/eta_task.csv\")\n",
    "schedule_df = pd.read_csv(\"../database/data/eta_task_schedule.csv\")"
   ]
  },
  {
   "cell_type": "code",
   "execution_count": 17,
   "metadata": {},
   "outputs": [],
   "source": [
    "for i in range(len(schedule_df)):\n",
    "    if pd.isnull(schedule_df.iloc[i]['path']):\n",
    "        schedule_df.iloc[i,1] = str([(-1,-1)])\n",
    "        schedule_df.iloc[i,2] = str([])\n",
    "        schedule_df.iloc[i,3] = str([])\n",
    "schedule_df.to_csv(\"../database/data/eta_schedule_noempty.csv\")"
   ]
  },
  {
   "cell_type": "code",
   "execution_count": null,
   "metadata": {},
   "outputs": [],
   "source": [
    "schedule_df = pd.read_csv(\"../database/data/eta_schedule_noempty.csv\")\n",
    "for r in schedule_df.iterrows():\n",
    "    print(r[1][2])"
   ]
  },
  {
   "cell_type": "markdown",
   "metadata": {},
   "source": [
    "进行预测"
   ]
  },
  {
   "cell_type": "code",
   "execution_count": 1,
   "metadata": {},
   "outputs": [],
   "source": [
    "import numpy as np\n",
    "import pandas as pd\n",
    "import torch\n",
    "from Dataset import ETATaskData, RoadFeatures\n",
    "from GRU import GRUmodel, GRUBagging\n",
    "from Utils import *"
   ]
  },
  {
   "cell_type": "code",
   "execution_count": 3,
   "metadata": {},
   "outputs": [
    {
     "name": "stderr",
     "output_type": "stream",
     "text": [
      "d:\\classes\\Datamining\\BUAA-DM23\\ETA\\Dataset.py:136: FutureWarning: Series.__getitem__ treating keys as positions is deprecated. In a future version, integer keys will always be treated as labels (consistent with DataFrame behavior). To access a value by position, use `ser.iloc[pos]`\n",
      "  self.road_ids = [ast.literal_eval(r[1][2]) for r in schedule_df.iterrows()]   # 注意iterrows()的结果是一个元组，第一项是idx!\n",
      "d:\\classes\\Datamining\\BUAA-DM23\\ETA\\Dataset.py:138: FutureWarning: Series.__getitem__ treating keys as positions is deprecated. In a future version, integer keys will always be treated as labels (consistent with DataFrame behavior). To access a value by position, use `ser.iloc[pos]`\n",
      "  paths = [ast.literal_eval(r[1][1]) for r in schedule_df.iterrows()]\n"
     ]
    }
   ],
   "source": [
    "nbags = 6   # 筛选出来6个\n",
    "\n",
    "trajSet = ETATaskData(\"../database/data/eta_schedule_noempty.csv\", \"../database/data/eta_task.csv\", 8)\n",
    "rawroadfeat = RoadFeatures(\"./road_features_with_lengths.pkl\", \"../database/data/road.csv\")\n",
    "base_bagging_dir = \"./GRUBagging\"\n",
    "device = torch.device('cuda' if torch.cuda.is_available() else 'cpu')\n",
    "\n",
    "GRUs = GRUBagging(rawroadfeat.n_features, device, nbags, is_training=False, params_path=base_bagging_dir).to(device)\n",
    "fundGRU = GRUmodel(rawroadfeat.n_features, 128, device).eval().to(device)\n",
    "fundGRU.load_state_dict(torch.load(\"./GRUonly_result/rawfeature_reg_gru.pt\"))\n",
    "\n",
    "ret = np.zeros((len(trajSet),2))\n",
    "l = 0\n",
    "for tids, roadids, tids, start_end_points, start_speeds in trajSet.iter_by_order():\n",
    "    fund = fundGRU.predict(roadids, start_end_points, start_speeds, rawroadfeat)\n",
    "    offset = GRUs.predict(roadids, start_speeds, rawroadfeat)\n",
    "    t = torch.clamp(fund + offset, 2).detach().cpu().numpy()\n",
    "    ret[l:l+t.shape[0], 0] = tids\n",
    "    ret[l:l+t.shape[0], 1] = t\n",
    "    l += t.shape[0]\n",
    "\n",
    "df = pd.DataFrame(ret, columns=['tid', 'timd'])\n",
    "df.to_csv(\"../database/data/eta_answer.csv\")"
   ]
  }
 ],
 "metadata": {
  "kernelspec": {
   "display_name": "Python 3",
   "language": "python",
   "name": "python3"
  },
  "language_info": {
   "codemirror_mode": {
    "name": "ipython",
    "version": 3
   },
   "file_extension": ".py",
   "mimetype": "text/x-python",
   "name": "python",
   "nbconvert_exporter": "python",
   "pygments_lexer": "ipython3",
   "version": "3.11.4"
  }
 },
 "nbformat": 4,
 "nbformat_minor": 2
}
