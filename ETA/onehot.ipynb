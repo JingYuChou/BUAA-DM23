{
 "cells": [
  {
   "cell_type": "markdown",
   "metadata": {},
   "source": [
    "一个新的编码，结构类似，但是完全转为onehot编码"
   ]
  },
  {
   "cell_type": "code",
   "execution_count": null,
   "metadata": {},
   "outputs": [],
   "source": [
    "# Assuming df_road, degree, and road_intensity are defined\n",
    "\n",
    "num_road = len(df_road)\n",
    "num_highway = 13\n",
    "degree_dim = 12\n",
    "intensity_dim = 400\n",
    "\n",
    "# Encode highway information\n",
    "highway_onehot = np.zeros((num_road, num_highway))\n",
    "for idx, road in df_road.iterrows():\n",
    "    highway = int(road[2])\n",
    "    if highway != 0:\n",
    "        highway_onehot[idx, highway-1] = 1\n",
    "\n",
    "# Encode degree information\n",
    "degree_onehot = np.zeros((num_road, degree_dim))\n",
    "degree_indices = df_road['id'].to_numpy()\n",
    "degree_onehot[degree_indices, degree[degree_indices].astype(int)] = 1\n",
    "\n",
    "# Encode intensity information\n",
    "intensity_onehot = np.zeros((num_road, intensity_dim))\n",
    "intensity_indices = df_road['id'].to_numpy()\n",
    "intensity_onehot[intensity_indices, road_intensity[intensity_indices].astype(int)] = 1\n",
    "\n",
    "# Concatenate all one-hot encoded features\n",
    "road_features_onehot = np.concatenate((highway_onehot, degree_onehot, intensity_onehot), axis=1).astype(np.int32)\n",
    "road_features_onehot"
   ]
  },
  {
   "cell_type": "code",
   "execution_count": null,
   "metadata": {},
   "outputs": [],
   "source": [
    "onehot_path = '../database/ETA/road_features_onehot.csv'\n",
    "data_array = road_features_onehot\n",
    "\n",
    "id_column = np.arange(data_array.shape[0]).reshape(-1, 1)\n",
    "data_with_id = np.hstack((id_column, data_array))\n",
    "\n",
    "np.savetxt(onehot_path, data_with_id, delimiter=',', fmt='%d', header='id,' + ','.join(['col{}'.format(i) for i in range(data_array.shape[1])]), comments='')\n"
   ]
  },
  {
   "cell_type": "code",
   "execution_count": null,
   "metadata": {},
   "outputs": [],
   "source": [
    "d = pd.read_csv(onehot_path)\n",
    "\n",
    "d"
   ]
  },
  {
   "cell_type": "code",
   "execution_count": null,
   "metadata": {},
   "outputs": [],
   "source": [
    "n = degree\n",
    "\n",
    "id_column = np.arange(n.shape[0]).reshape(-1, 1)\n",
    "\n",
    "# Stacking the arrays vertically instead of horizontally\n",
    "d = np.hstack((id_column, n.reshape(-1, 1)))\n",
    "\n",
    "# Saving to CSV\n",
    "degree_path = '../database/data/degree.csv'\n",
    "np.savetxt(degree_path, d, delimiter=',', fmt='%d', header='id,degree', comments='')"
   ]
  }
 ],
 "metadata": {
  "language_info": {
   "name": "python"
  },
  "orig_nbformat": 4
 },
 "nbformat": 4,
 "nbformat_minor": 2
}
