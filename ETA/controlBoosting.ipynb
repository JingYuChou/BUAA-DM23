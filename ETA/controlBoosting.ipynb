{
 "cells": [
  {
   "cell_type": "code",
   "execution_count": 1,
   "metadata": {},
   "outputs": [],
   "source": [
    "import numpy as np\n",
    "import pickle\n",
    "import pandas as pd\n",
    "import torch \n",
    "from GRU import GRUmodel\n",
    "from Utils import *"
   ]
  },
  {
   "cell_type": "code",
   "execution_count": 46,
   "metadata": {},
   "outputs": [
    {
     "data": {
      "text/plain": [
       "<All keys matched successfully>"
      ]
     },
     "execution_count": 46,
     "metadata": {},
     "output_type": "execute_result"
    }
   ],
   "source": [
    "current_layer = 8\n",
    "params_path = \"./newBoosting/param{}.pt\".format(current_layer)\n",
    "device = torch.device(\"cuda\") if torch.cuda.is_available() else torch.device(\"cpu\")\n",
    "\n",
    "trajSet = TrajDatasetNoGraph(\"./traj_data_train.pkl\", 8, hour_holiday=\"traj_hour_holiday_train.pkl\")\n",
    "rawroadfeat = RoadFeatures(\"./road_features_with_lengths.pkl\", \"../database/data/road.csv\")\n",
    "\n",
    "gru = GRUmodel(rawroadfeat.n_features, 128, device).to(device)\n",
    "gru.load_state_dict(torch.load(params_path))"
   ]
  },
  {
   "cell_type": "code",
   "execution_count": 4,
   "metadata": {},
   "outputs": [],
   "source": [
    "# w = np.ones((len(trajSet)), dtype=np.float32)\n",
    "# with open(\"./newBoosting/weight0.pkl\", \"wb\") as f:\n",
    "#     pickle.dump(w,f)"
   ]
  },
  {
   "cell_type": "code",
   "execution_count": 47,
   "metadata": {},
   "outputs": [
    {
     "data": {
      "text/plain": [
       "tensor([[37.5000, 19.4657],\n",
       "        [ 5.5833,  5.1486],\n",
       "        [23.8167, 20.6343],\n",
       "        ...,\n",
       "        [ 7.8500, 14.6502],\n",
       "        [20.3833, 14.3791],\n",
       "        [ 7.5667,  9.4011]], device='cuda:0')"
      ]
     },
     "execution_count": 47,
     "metadata": {},
     "output_type": "execute_result"
    }
   ],
   "source": [
    "ret = predict_all_trajs(trajSet, gru, rawroadfeat)\n",
    "ret"
   ]
  },
  {
   "cell_type": "code",
   "execution_count": 48,
   "metadata": {},
   "outputs": [
    {
     "name": "stdout",
     "output_type": "stream",
     "text": [
      "超出阈值个数:1620.0\n",
      "e_m: 0.5286245942115784, alpha_m: -0.05731185586151965\n",
      "[0.21208006 0.21208006 0.21208006 ... 1.2067821  0.414297   0.34888747]\n",
      "0.18500046 5.405391\n",
      "new_alpha: [ 0.27714676  0.02565434  0.03200861  0.5425863   0.51845974  0.07494448\n",
      "  0.14829388 -0.01099094 -0.05731186]\n"
     ]
    }
   ],
   "source": [
    "threshold = 0.7\n",
    "if current_layer != 0:\n",
    "    with open(\"./newBoosting/alpha.pkl\", \"rb\") as f:\n",
    "        alpha = pickle.load(f)\n",
    "\n",
    "with open(\"./newBoosting/weight{}.pkl\".format(current_layer), \"rb\") as f:\n",
    "    weight = pickle.load(f)\n",
    "\n",
    "delta = ret[:,0] - ret[:,1]\n",
    "rate = torch.abs(delta / ret[:,0])\n",
    "# rate大于threshold的认为是错的，否则认为是对的.\n",
    "err = np.float32((rate > threshold).detach().cpu().numpy())\n",
    "print(\"超出阈值个数:{}\".format(np.sum(err)))\n",
    "e_m = float(np.sum(weight * err) / np.sum(weight))\n",
    "alpha_m = 0.5 * np.log((1-e_m) / e_m)\n",
    "print(\"e_m: {}, alpha_m: {}\".format(e_m, alpha_m))\n",
    "# 错的是-1，对的是1.\n",
    "yH = -1 * err + (1.0 - err)\n",
    "new_weight = np.exp(-alpha_m * yH) * weight\n",
    "#new_weight /= np.sum(new_weight)\n",
    "print(new_weight)\n",
    "print(new_weight.min(), new_weight.max())\n",
    "\n",
    "with open(\"./newBoosting/weight{}.pkl\".format(current_layer+1), \"wb\") as f:\n",
    "    pickle.dump(new_weight, f)\n",
    "alpha_m = np.array([alpha_m], dtype=np.float32)\n",
    "if current_layer != 0:\n",
    "    alpha = np.concatenate((alpha, alpha_m))\n",
    "else:\n",
    "    alpha = alpha_m\n",
    "print(\"new_alpha: {}\".format(alpha))\n",
    "with open(\"./newBoosting/alpha.pkl\", \"wb\") as f:\n",
    "    pickle.dump(alpha, f)"
   ]
  }
 ],
 "metadata": {
  "kernelspec": {
   "display_name": "Python 3",
   "language": "python",
   "name": "python3"
  },
  "language_info": {
   "codemirror_mode": {
    "name": "ipython",
    "version": 3
   },
   "file_extension": ".py",
   "mimetype": "text/x-python",
   "name": "python",
   "nbconvert_exporter": "python",
   "pygments_lexer": "ipython3",
   "version": "3.11.4"
  }
 },
 "nbformat": 4,
 "nbformat_minor": 2
}
