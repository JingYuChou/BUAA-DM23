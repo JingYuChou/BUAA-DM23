{
 "cells": [
  {
   "cell_type": "code",
   "execution_count": 1,
   "metadata": {},
   "outputs": [],
   "source": [
    "import os\n",
    "import numpy as np\n",
    "import pandas as pd\n",
    "import ast\n",
    "import matplotlib.pyplot as plt\n",
    "\n",
    "df_road = pd.read_csv(\"../database/data/road.csv\")\n",
    "df_rel = pd.read_csv(\"../database/data/rel.csv\")\n",
    "\n",
    "num_road = df_road['id'].count()\n",
    "num_rel = df_rel['id'].count()"
   ]
  },
  {
   "cell_type": "code",
   "execution_count": 2,
   "metadata": {},
   "outputs": [
    {
     "name": "stderr",
     "output_type": "stream",
     "text": [
      "C:\\Users\\admin\\AppData\\Local\\Temp\\ipykernel_10688\\3243666799.py:5: FutureWarning: Series.__getitem__ treating keys as positions is deprecated. In a future version, integer keys will always be treated as labels (consistent with DataFrame behavior). To access a value by position, use `ser.iloc[pos]`\n",
      "  origin = int(rel[1])\n",
      "C:\\Users\\admin\\AppData\\Local\\Temp\\ipykernel_10688\\3243666799.py:6: FutureWarning: Series.__getitem__ treating keys as positions is deprecated. In a future version, integer keys will always be treated as labels (consistent with DataFrame behavior). To access a value by position, use `ser.iloc[pos]`\n",
      "  target = int(rel[2])\n"
     ]
    }
   ],
   "source": [
    "# 形成邻接表\n",
    "graph_to = [[] for _ in range(num_road)]    # 这里是出边\n",
    "graph_from = [[] for _ in range(num_road)]  # 这里是入边\n",
    "for idx, rel in df_rel.iterrows():\n",
    "    origin = int(rel[1])\n",
    "    target = int(rel[2])\n",
    "    graph_to[origin].append(target)\n",
    "    graph_from[target].append(target)\n"
   ]
  },
  {
   "cell_type": "code",
   "execution_count": 3,
   "metadata": {},
   "outputs": [],
   "source": [
    "# 定义路段相似度.\n",
    "def shapeSim(row1, row2):\n",
    "    '''\n",
    "    这个函数左右不对称，所以应该左右两边各算一次，取平均值或者最大值.\n",
    "    '''\n",
    "    coord1 = np.array(ast.literal_eval(row1[1]) if type(row1[1])==str else row1[1])\n",
    "    coord1 = (coord1 - coord1[0,:]) * 1000\n",
    "    coord2 = np.array(ast.literal_eval(row2[1]) if type(row2[1])==str else row2[1])\n",
    "    coord2 = (coord2 - coord2[0,:]) * 1000\n",
    "    # 总长度归一化. ——暂时先不归一化了..\n",
    "    # 插值缺少的点.\n",
    "    num_points1 = coord1.shape[0]\n",
    "    num_points2 = coord2.shape[0]\n",
    "    diff = num_points1 - num_points2\n",
    "    skip_shape = False    # shape 相似度直接为0\n",
    "    if diff > 0:\n",
    "        if diff > num_points2 - 1:\n",
    "            skip_shape = True\n",
    "        else:\n",
    "            coord2 = addPoints(coord2, diff)\n",
    "    elif diff<0:\n",
    "        diff = -diff\n",
    "        if diff > num_points1 - 1:\n",
    "            skip_shape = True\n",
    "        else:\n",
    "            coord1 = addPoints(coord1, diff)\n",
    "    if not skip_shape:\n",
    "        # 变成齐次坐标.\n",
    "        coord1 = coord1[1:,:] - coord1[:-1,:]\n",
    "        coord2 = coord2[1:,:] - coord2[:-1,:]\n",
    "        # print(coord1)\n",
    "        # print(coord2)\n",
    "        coord1 = np.concatenate((coord1, np.ones((coord1.shape[0], 1))), axis=1)\n",
    "        coord2 = np.concatenate((coord2, np.ones((coord2.shape[0], 1))), axis=1)\n",
    "        delta = 0\n",
    "        # 因为是行向量，所以应该是coord2 = coord1 * A\n",
    "        if coord1.shape[0] > coord1.shape[1]:     # 可以求伪逆.\n",
    "            coord1_pinv = np.linalg.pinv(coord1)\n",
    "            #print(coord1_pinv.shape, coord2.shape, coord1.shape)\n",
    "            A = np.matmul(coord1_pinv, coord2)\n",
    "            #print(A)\n",
    "            # test = np.matmul(coord1, A)\n",
    "            # test = test[:,:-1] / (test[:,-1][:,np.newaxis] + 1e-6)\n",
    "            # delta = np.sum(np.abs(coord2[:,:-1] - test))\n",
    "            delta += np.abs(np.sum(A**2) - 3)\n",
    "            coord2_pinv = np.linalg.pinv(coord2)\n",
    "            A = np.matmul(coord2_pinv, coord1)\n",
    "            delta += np.abs(np.sum(A**2) - 3)\n",
    "        else:     # 不可以求伪逆，用最小二乘法.\n",
    "            A = np.linalg.lstsq(coord1, coord2, rcond=None)[0]\n",
    "            #print(A)\n",
    "            delta += np.abs(np.sum(A**2) - coord1.shape[0])\n",
    "            A = np.linalg.lstsq(coord2, coord1, rcond=None)[0]\n",
    "            delta += np.abs(np.sum(A**2) - coord1.shape[0])\n",
    "        # 用Sigmoid函数，加点变换.\n",
    "        # 1/(1+e^{10x-5})\n",
    "        #shape_sim = 1/(1+np.exp(10*delta - 5))\n",
    "        delta /= 2\n",
    "        shape_sim = 1/(1+np.exp(delta - 5)) if delta < 20 else 0\n",
    "    else:\n",
    "        shape_sim = 0\n",
    "\n",
    "    return shape_sim\n",
    "\n",
    "def addPoints(pointArr:np.ndarray, addnum:int):\n",
    "    '''\n",
    "    约束addnum < 点个数-1（线段个数），也就是最多插值一次.\n",
    "    '''\n",
    "    newpoints = (pointArr[1:,:] + pointArr[:-1,:]) / 2\n",
    "    ret = []\n",
    "    i = 0\n",
    "    while i<addnum:\n",
    "        ret.append(pointArr[i,:].flatten())\n",
    "        ret.append(newpoints[i,:].flatten())\n",
    "        i += 1\n",
    "    while i< pointArr.shape[0]:\n",
    "        ret.append(pointArr[i,:].flatten())\n",
    "        i += 1\n",
    "    return np.array(ret)\n",
    "\n",
    "\n",
    "def topoSim(row1, row2, highway_coef = 0.5, topo_coef = 0.5):\n",
    "    highwayTypeNum = 14\n",
    "    id1 = int(row1[0])\n",
    "    id2 = int(row2[0])\n",
    "    highway1 = int(row1[2])\n",
    "    highway2 = int(row2[2])\n",
    "    highwaySim = float(highway1 == highway2)\n",
    "\n",
    "    # 考虑的话是在太慢了，图中前后连接的话实在太慢，不要一个一个算.\n",
    "    # topoSim = 0\n",
    "    # for graph in [graph_from, graph_to]:\n",
    "    #     total = len(graph[id1]) + len(graph[id2])\n",
    "    #     if total == 0:\n",
    "    #         #topoSim += 1\n",
    "    #         continue\n",
    "    #     highway_cnt1 = [0 for _ in range(highwayTypeNum)]\n",
    "    #     highway_cnt2 = [0 for _ in range(highwayTypeNum)]\n",
    "    #     for i in graph_from[id1]:\n",
    "    #         from_highway = int(df_road.iloc[id1][2])\n",
    "    #         highway_cnt1[from_highway] += 1\n",
    "    #     for i in graph_from[id2]:\n",
    "    #         from_highway = int(df_road.iloc[id2][2])\n",
    "    #         highway_cnt2[from_highway] += 1\n",
    "    #     cnt1 = np.array(highway_cnt1)\n",
    "    #     cnt2 = np.array(highway_cnt2)\n",
    "    #     s = np.sum(np.where(cnt1<cnt2, cnt1, cnt2))\n",
    "    #     topoSim += s / (total)\n",
    "    # topoSim /= 2\n",
    "    return highwaySim\n",
    "\n",
    "def roadSim(row1, row2):\n",
    "    #shape_sim = min(shapeSim(row1, row2), shapeSim(row2, row1))\n",
    "    shape_sim = shapeSim(row1, row2)\n",
    "    topo_sim = topoSim(row1, row2)\n",
    "    return (shape_sim + topo_sim) / 2"
   ]
  },
  {
   "cell_type": "code",
   "execution_count": 4,
   "metadata": {},
   "outputs": [
    {
     "name": "stderr",
     "output_type": "stream",
     "text": [
      "C:\\Users\\admin\\AppData\\Local\\Temp\\ipykernel_10688\\998775616.py:6: FutureWarning: Series.__getitem__ treating keys as positions is deprecated. In a future version, integer keys will always be treated as labels (consistent with DataFrame behavior). To access a value by position, use `ser.iloc[pos]`\n",
      "  coord1 = np.array(ast.literal_eval(row1[1]) if type(row1[1])==str else row1[1])\n",
      "C:\\Users\\admin\\AppData\\Local\\Temp\\ipykernel_10688\\998775616.py:8: FutureWarning: Series.__getitem__ treating keys as positions is deprecated. In a future version, integer keys will always be treated as labels (consistent with DataFrame behavior). To access a value by position, use `ser.iloc[pos]`\n",
      "  coord2 = np.array(ast.literal_eval(row2[1]) if type(row2[1])==str else row2[1])\n",
      "C:\\Users\\admin\\AppData\\Local\\Temp\\ipykernel_10688\\998775616.py:84: FutureWarning: Series.__getitem__ treating keys as positions is deprecated. In a future version, integer keys will always be treated as labels (consistent with DataFrame behavior). To access a value by position, use `ser.iloc[pos]`\n",
      "  id1 = int(row1[0])\n",
      "C:\\Users\\admin\\AppData\\Local\\Temp\\ipykernel_10688\\998775616.py:85: FutureWarning: Series.__getitem__ treating keys as positions is deprecated. In a future version, integer keys will always be treated as labels (consistent with DataFrame behavior). To access a value by position, use `ser.iloc[pos]`\n",
      "  id2 = int(row2[0])\n",
      "C:\\Users\\admin\\AppData\\Local\\Temp\\ipykernel_10688\\998775616.py:86: FutureWarning: Series.__getitem__ treating keys as positions is deprecated. In a future version, integer keys will always be treated as labels (consistent with DataFrame behavior). To access a value by position, use `ser.iloc[pos]`\n",
      "  highway1 = int(row1[2])\n",
      "C:\\Users\\admin\\AppData\\Local\\Temp\\ipykernel_10688\\998775616.py:87: FutureWarning: Series.__getitem__ treating keys as positions is deprecated. In a future version, integer keys will always be treated as labels (consistent with DataFrame behavior). To access a value by position, use `ser.iloc[pos]`\n",
      "  highway2 = int(row2[2])\n"
     ]
    }
   ],
   "source": [
    "road1 = df_road.iloc[1]\n",
    "road2 = df_road.iloc[8]\n",
    "#ast.literal_eval(road1[1])\n",
    "#topoSim(road1, road2)\n",
    "#print(roadSim(road1, road2))\n",
    "m = np.zeros((num_road,))\n",
    "for idx, road in df_road.iterrows():\n",
    "    m[idx] = roadSim(road1, road)"
   ]
  },
  {
   "cell_type": "code",
   "execution_count": 134,
   "metadata": {},
   "outputs": [],
   "source": [
    "df = pd.DataFrame(m, columns=['distance'])\n",
    "df.to_csv('tmp.csv', index=True)"
   ]
  },
  {
   "cell_type": "code",
   "execution_count": null,
   "metadata": {},
   "outputs": [],
   "source": [
    "# KMeans 算法.\n",
    "# class Cluster:\n",
    "#     merge_threshold = 1e-5\n",
    "#     def __init__(self, cls:int) -> None:\n",
    "#         self.highway_mask = np.zeros((14))\n",
    "#         self.total_points = 0   # 点的总数. - 用来求“中心”\n",
    "#         self.size = 0\n",
    "#         self.center_line = None\n",
    "#         self.center_highway = 0   # 这个用最多的那个类型..\n",
    "#         self.center_pos = None\n",
    "#         self.ids = []\n",
    "#         self.cls = cls\n",
    "    \n",
    "#     def Add(self, row):\n",
    "#         if self.size == 0:\n",
    "#             self.center_line = ast.literal_eval(row[1])\n",
    "#             self.center_highway = int(row[2])\n",
    "#             self.highway_mask[self.center_highway] += 1\n",
    "#             self.ids.append(int(row[0]))\n",
    "#             self.total_points += len(self.center_line)\n",
    "#             self.center_pos = np.mean(np.array(self.center_line), axis=0)\n",
    "#         else:\n",
    "#             self.ids.append(int(row[0]))\n",
    "#             new_line = ast.literal_eval(row[1])\n",
    "#             # 前两个点一定有，直接求平均(增量式)\n",
    "#             for i in [0,1]:\n",
    "#                 for j in [0,1]:\n",
    "#                     self.center_highway[i][j] = (self.size*self.center_highway[i][j] \\\n",
    "#                           + new_line[i][j]) / (self.size+1)\n",
    "#             # 后面的点，用向量求平均的方式，可以预见这个之后几乎会越来越小. 但点只增不减是不行的.\n",
    "            \n",
    "\n",
    "#         self.size += 1\n",
    "\n",
    "# n_clusters = 3\n"
   ]
  },
  {
   "cell_type": "code",
   "execution_count": 5,
   "metadata": {},
   "outputs": [
    {
     "name": "stderr",
     "output_type": "stream",
     "text": [
      "  0%|          | 0/38027 [00:00<?, ?it/s]C:\\Users\\admin\\AppData\\Local\\Temp\\ipykernel_10688\\998775616.py:6: FutureWarning: Series.__getitem__ treating keys as positions is deprecated. In a future version, integer keys will always be treated as labels (consistent with DataFrame behavior). To access a value by position, use `ser.iloc[pos]`\n",
      "  coord1 = np.array(ast.literal_eval(row1[1]) if type(row1[1])==str else row1[1])\n",
      "C:\\Users\\admin\\AppData\\Local\\Temp\\ipykernel_10688\\998775616.py:8: FutureWarning: Series.__getitem__ treating keys as positions is deprecated. In a future version, integer keys will always be treated as labels (consistent with DataFrame behavior). To access a value by position, use `ser.iloc[pos]`\n",
      "  coord2 = np.array(ast.literal_eval(row2[1]) if type(row2[1])==str else row2[1])\n",
      "C:\\Users\\admin\\AppData\\Local\\Temp\\ipykernel_10688\\998775616.py:84: FutureWarning: Series.__getitem__ treating keys as positions is deprecated. In a future version, integer keys will always be treated as labels (consistent with DataFrame behavior). To access a value by position, use `ser.iloc[pos]`\n",
      "  id1 = int(row1[0])\n",
      "C:\\Users\\admin\\AppData\\Local\\Temp\\ipykernel_10688\\998775616.py:85: FutureWarning: Series.__getitem__ treating keys as positions is deprecated. In a future version, integer keys will always be treated as labels (consistent with DataFrame behavior). To access a value by position, use `ser.iloc[pos]`\n",
      "  id2 = int(row2[0])\n",
      "C:\\Users\\admin\\AppData\\Local\\Temp\\ipykernel_10688\\998775616.py:86: FutureWarning: Series.__getitem__ treating keys as positions is deprecated. In a future version, integer keys will always be treated as labels (consistent with DataFrame behavior). To access a value by position, use `ser.iloc[pos]`\n",
      "  highway1 = int(row1[2])\n",
      "C:\\Users\\admin\\AppData\\Local\\Temp\\ipykernel_10688\\998775616.py:87: FutureWarning: Series.__getitem__ treating keys as positions is deprecated. In a future version, integer keys will always be treated as labels (consistent with DataFrame behavior). To access a value by position, use `ser.iloc[pos]`\n",
      "  highway2 = int(row2[2])\n",
      "  1%|▏         | 492/38027 [00:24<30:42, 20.37it/s]\n"
     ]
    },
    {
     "ename": "KeyboardInterrupt",
     "evalue": "",
     "output_type": "error",
     "traceback": [
      "\u001b[1;31m---------------------------------------------------------------------------\u001b[0m",
      "\u001b[1;31mKeyboardInterrupt\u001b[0m                         Traceback (most recent call last)",
      "Cell \u001b[1;32mIn[5], line 12\u001b[0m\n\u001b[0;32m     10\u001b[0m     metric[i,j] \u001b[38;5;241m=\u001b[39m metric[j,i]\n\u001b[0;32m     11\u001b[0m \u001b[38;5;28;01melif\u001b[39;00m i\u001b[38;5;241m>\u001b[39mj:\n\u001b[1;32m---> 12\u001b[0m     metric[i,j] \u001b[38;5;241m=\u001b[39m \u001b[43mroadSim\u001b[49m\u001b[43m(\u001b[49m\u001b[43mdf_road\u001b[49m\u001b[38;5;241;43m.\u001b[39;49m\u001b[43miloc\u001b[49m\u001b[43m[\u001b[49m\u001b[43mi\u001b[49m\u001b[43m]\u001b[49m\u001b[43m,\u001b[49m\u001b[43m \u001b[49m\u001b[43mdf_road\u001b[49m\u001b[38;5;241;43m.\u001b[39;49m\u001b[43miloc\u001b[49m\u001b[43m[\u001b[49m\u001b[43mj\u001b[49m\u001b[43m]\u001b[49m\u001b[43m)\u001b[49m\n",
      "Cell \u001b[1;32mIn[3], line 114\u001b[0m, in \u001b[0;36mroadSim\u001b[1;34m(row1, row2)\u001b[0m\n\u001b[0;32m    112\u001b[0m \u001b[38;5;28;01mdef\u001b[39;00m \u001b[38;5;21mroadSim\u001b[39m(row1, row2):\n\u001b[0;32m    113\u001b[0m     \u001b[38;5;66;03m#shape_sim = min(shapeSim(row1, row2), shapeSim(row2, row1))\u001b[39;00m\n\u001b[1;32m--> 114\u001b[0m     shape_sim \u001b[38;5;241m=\u001b[39m \u001b[43mshapeSim\u001b[49m\u001b[43m(\u001b[49m\u001b[43mrow1\u001b[49m\u001b[43m,\u001b[49m\u001b[43m \u001b[49m\u001b[43mrow2\u001b[49m\u001b[43m)\u001b[49m\n\u001b[0;32m    115\u001b[0m     topo_sim \u001b[38;5;241m=\u001b[39m topoSim(row1, row2)\n\u001b[0;32m    116\u001b[0m     \u001b[38;5;28;01mreturn\u001b[39;00m (shape_sim \u001b[38;5;241m+\u001b[39m topo_sim) \u001b[38;5;241m/\u001b[39m \u001b[38;5;241m2\u001b[39m\n",
      "Cell \u001b[1;32mIn[3], line 20\u001b[0m, in \u001b[0;36mshapeSim\u001b[1;34m(row1, row2)\u001b[0m\n\u001b[0;32m     18\u001b[0m         skip_shape \u001b[38;5;241m=\u001b[39m \u001b[38;5;28;01mTrue\u001b[39;00m\n\u001b[0;32m     19\u001b[0m     \u001b[38;5;28;01melse\u001b[39;00m:\n\u001b[1;32m---> 20\u001b[0m         coord2 \u001b[38;5;241m=\u001b[39m \u001b[43maddPoints\u001b[49m\u001b[43m(\u001b[49m\u001b[43mcoord2\u001b[49m\u001b[43m,\u001b[49m\u001b[43m \u001b[49m\u001b[43mdiff\u001b[49m\u001b[43m)\u001b[49m\n\u001b[0;32m     21\u001b[0m \u001b[38;5;28;01melif\u001b[39;00m diff\u001b[38;5;241m<\u001b[39m\u001b[38;5;241m0\u001b[39m:\n\u001b[0;32m     22\u001b[0m     diff \u001b[38;5;241m=\u001b[39m \u001b[38;5;241m-\u001b[39mdiff\n",
      "Cell \u001b[1;32mIn[3], line 79\u001b[0m, in \u001b[0;36maddPoints\u001b[1;34m(pointArr, addnum)\u001b[0m\n\u001b[0;32m     77\u001b[0m     ret\u001b[38;5;241m.\u001b[39mappend(pointArr[i,:]\u001b[38;5;241m.\u001b[39mflatten())\n\u001b[0;32m     78\u001b[0m     i \u001b[38;5;241m+\u001b[39m\u001b[38;5;241m=\u001b[39m \u001b[38;5;241m1\u001b[39m\n\u001b[1;32m---> 79\u001b[0m \u001b[38;5;28;01mreturn\u001b[39;00m np\u001b[38;5;241m.\u001b[39marray(ret)\n",
      "\u001b[1;31mKeyboardInterrupt\u001b[0m: "
     ]
    }
   ],
   "source": [
    "# 因为求平均比较困难，所以用DBScan.\n",
    "from sklearn.cluster import DBSCAN\n",
    "import pickle\n",
    "from tqdm import tqdm\n",
    "\n",
    "metric = np.zeros((num_road, num_road))\n",
    "for i in tqdm(range(num_road)):\n",
    "    for j in range(num_road):\n",
    "        if i<j:\n",
    "            metric[i,j] = metric[j,i]\n",
    "        elif i>j:\n",
    "            metric[i,j] = roadSim(df_road.iloc[i], df_road.iloc[j])"
   ]
  },
  {
   "cell_type": "markdown",
   "metadata": {},
   "source": [
    "## 用已经算好的sim矩阵进行聚类."
   ]
  },
  {
   "cell_type": "code",
   "execution_count": 3,
   "metadata": {},
   "outputs": [
    {
     "name": "stdout",
     "output_type": "stream",
     "text": [
      "sim matrix loaded\n"
     ]
    },
    {
     "name": "stderr",
     "output_type": "stream",
     "text": [
      "100%|██████████| 38027/38027 [01:44<00:00, 363.52it/s] \n"
     ]
    },
    {
     "name": "stdout",
     "output_type": "stream",
     "text": [
      "dis matrix prepared. running dbscan..\n"
     ]
    }
   ],
   "source": [
    "import pickle\n",
    "from sklearn.cluster import DBSCAN\n",
    "from tqdm import tqdm\n",
    "\n",
    "sim = np.zeros((num_road, num_road), dtype=np.float32)\n",
    "for fname in os.listdir(\"./\"):\n",
    "    if fname.endswith(\".pkl\"):\n",
    "        with open(fname, \"rb\") as f:\n",
    "            m = pickle.load(f)\n",
    "            split = fname[:-4].split('_')\n",
    "            start = int(split[1])\n",
    "            end = int(split[2])\n",
    "            sim[start:end, :] = np.float32(m)\n",
    "\n",
    "print(\"sim matrix loaded\")\n",
    "\n",
    "dis = np.float32(1.0) - sim\n",
    "for i in tqdm(range(num_road)):\n",
    "    for j in range(i):\n",
    "        dis[i,j] = dis[j,i]\n",
    "#dis = (dis + dis.T) / 2\n",
    "print(\"dis matrix prepared. running dbscan..\")"
   ]
  },
  {
   "cell_type": "code",
   "execution_count": 9,
   "metadata": {},
   "outputs": [],
   "source": [
    "db = DBSCAN(0.4, min_samples=500, metric=\"precomputed\")\n",
    "label = db.fit_predict(dis)"
   ]
  },
  {
   "cell_type": "code",
   "execution_count": 8,
   "metadata": {},
   "outputs": [
    {
     "name": "stderr",
     "output_type": "stream",
     "text": [
      "C:\\Users\\admin\\AppData\\Local\\Temp\\ipykernel_26508\\3171421342.py:3: FutureWarning: Series.__getitem__ treating keys as positions is deprecated. In a future version, integer keys will always be treated as labels (consistent with DataFrame behavior). To access a value by position, use `ser.iloc[pos]`\n",
      "  highway_mask[int(road[2])] += 1\n"
     ]
    },
    {
     "name": "stdout",
     "output_type": "stream",
     "text": [
      "[ 2669.   550.   125.   231.  1643.   310. 15672.    68.  2583.   547.\n",
      " 10062.  1222.  1201.  1144.]\n"
     ]
    }
   ],
   "source": [
    "highway_mask = np.zeros((14,))\n",
    "for idx, road in df_road.iterrows():\n",
    "    highway_mask[int(road[2])] += 1\n",
    "print(highway_mask)"
   ]
  },
  {
   "cell_type": "code",
   "execution_count": 14,
   "metadata": {},
   "outputs": [
    {
     "name": "stdout",
     "output_type": "stream",
     "text": [
      "-1 7\n",
      "[0 0 0 ... 4 4 4]\n",
      "[ 4709.  1272.  1069.  9473.  2035. 15385.   888.   754.  2442.]\n"
     ]
    },
    {
     "data": {
      "text/plain": [
       "(array([ 4709.,  1272.,  1069.,  9473.,     0.,  2035., 15385.,   888.,\n",
       "          754.,  2442.]),\n",
       " array([-1. , -0.2,  0.6,  1.4,  2.2,  3. ,  3.8,  4.6,  5.4,  6.2,  7. ]),\n",
       " <BarContainer object of 10 artists>)"
      ]
     },
     "execution_count": 14,
     "metadata": {},
     "output_type": "execute_result"
    },
    {
     "data": {
      "image/png": "[encoded data removed]",
      "text/plain": [
       "<Figure size 640x480 with 1 Axes>"
      ]
     },
     "metadata": {},
     "output_type": "display_data"
    }
   ],
   "source": [
    "import matplotlib.pyplot as plt\n",
    "print(label.min(), label.max())\n",
    "print(label)\n",
    "\n",
    "cnt = np.zeros((label.max() - label.min() + 1,))\n",
    "for l in label:\n",
    "    cnt[l+1] += 1\n",
    "print(cnt)\n",
    "\n",
    "plt.hist(label)"
   ]
  },
  {
   "cell_type": "code",
   "execution_count": 12,
   "metadata": {},
   "outputs": [],
   "source": [
    "# 保存一个label.\n",
    "with open(\"pkl_label_eps0.4_mst500.cluster\", \"wb\") as f:\n",
    "    pickle.dump(label, f)"
   ]
  }
 ],
 "metadata": {
  "kernelspec": {
   "display_name": "Python 3",
   "language": "python",
   "name": "python3"
  },
  "language_info": {
   "codemirror_mode": {
    "name": "ipython",
    "version": 3
   },
   "file_extension": ".py",
   "mimetype": "text/x-python",
   "name": "python",
   "nbconvert_exporter": "python",
   "pygments_lexer": "ipython3",
   "version": "3.11.4"
  }
 },
 "nbformat": 4,
 "nbformat_minor": 2
}
