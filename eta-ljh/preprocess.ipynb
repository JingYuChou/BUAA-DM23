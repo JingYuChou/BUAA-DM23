{
 "cells": [
  {
   "cell_type": "code",
   "execution_count": 13,
   "metadata": {},
   "outputs": [],
   "source": [
    "import numpy as np\n",
    "import pandas as pd\n",
    "import os\n",
    "import ast\n",
    "import matplotlib.pyplot as plt\n",
    "import pickle\n",
    "\n",
    "df_road = pd.read_csv('../database/data/road.csv')\n",
    "df_rel = pd.read_csv(\"../database/data/rel.csv\")\n",
    "\n",
    "num_road = df_road['id'].count()\n",
    "num_rel = df_rel['id'].count()"
   ]
  },
  {
   "cell_type": "markdown",
   "metadata": {},
   "source": [
    "原始特征编码方法：\n",
    "+ highway type, 独热码，如果这一项缺失，就用它所在的小块中所拥有的类型中选择一个最大的(因为比较主干的路一般不会缺失highway) （这样是13维）\n",
    "+ degree embedding, 节点度的embedding编码，用(sin 2^0d, sin 2^1d, sin 2^2d...), 暂定弄到8维.\n",
    "+ density embedding, 道路空间密度，为了方便计算，预定义一些小格，把路段分到这些小格中，用每个小格中有的路段数量除以小格面积当作这个小格中路段的近似密度；路段只以起点和终点计入网格中，如果起点和中点在两个不同的格，就同时记入两个网格中，其密度用两个网格密度的平均. 同样也用正弦或者余弦嵌入编码一下，暂定弄到8维，这样一共就是29维.\n",
    "\n",
    "先试一下看看效果."
   ]
  },
  {
   "cell_type": "code",
   "execution_count": 4,
   "metadata": {},
   "outputs": [
    {
     "name": "stderr",
     "output_type": "stream",
     "text": [
      "C:\\Users\\admin\\AppData\\Local\\Temp\\ipykernel_28928\\3590916984.py:7: FutureWarning: Series.__getitem__ treating keys as positions is deprecated. In a future version, integer keys will always be treated as labels (consistent with DataFrame behavior). To access a value by position, use `ser.iloc[pos]`\n",
      "  coord = ast.literal_eval(road[1])\n"
     ]
    },
    {
     "name": "stdout",
     "output_type": "stream",
     "text": [
      "north: 40.0006224, south: 39.7955236, west: 116.2500662, east: 116.5018476\n"
     ]
    }
   ],
   "source": [
    "# 网格范围.\n",
    "west_bound = 1000\n",
    "east_bound = 0\n",
    "north_bound = 0\n",
    "south_bound = 1000\n",
    "for idx, road in df_road.iterrows():\n",
    "    coord = ast.literal_eval(road[1])\n",
    "    for point in coord:\n",
    "        if point[0] < west_bound:\n",
    "            west_bound = point[0]\n",
    "        if point[0] > east_bound:\n",
    "            east_bound = point[0]\n",
    "        if point[1] < south_bound:\n",
    "            south_bound = point[1]\n",
    "        if point[1] > north_bound:\n",
    "            north_bound = point[1]\n",
    "print(\"north: {}, south: {}, west: {}, east: {}\".format(north_bound, south_bound, west_bound, east_bound))"
   ]
  },
  {
   "cell_type": "code",
   "execution_count": 11,
   "metadata": {},
   "outputs": [
    {
     "name": "stdout",
     "output_type": "stream",
     "text": [
      "0.007193754285714249 0.007324957142856954\n"
     ]
    },
    {
     "name": "stderr",
     "output_type": "stream",
     "text": [
      "C:\\Users\\admin\\AppData\\Local\\Temp\\ipykernel_28928\\1796705185.py:10: FutureWarning: Series.__getitem__ treating keys as positions is deprecated. In a future version, integer keys will always be treated as labels (consistent with DataFrame behavior). To access a value by position, use `ser.iloc[pos]`\n",
      "  coord = ast.literal_eval(road[1])\n"
     ]
    },
    {
     "name": "stdout",
     "output_type": "stream",
     "text": [
      "383.0 3.0\n"
     ]
    },
    {
     "data": {
      "text/plain": [
       "(array([2651., 7555., 8760., 7909., 4866., 3594.,  794., 1054.,  177.,\n",
       "         667.]),\n",
       " array([  3.,  41.,  79., 117., 155., 193., 231., 269., 307., 345., 383.]),\n",
       " <BarContainer object of 10 artists>)"
      ]
     },
     "execution_count": 11,
     "metadata": {},
     "output_type": "execute_result"
    },
    {
     "data": {
      "image/png": "[encoded data removed]",
      "text/plain": [
       "<Figure size 640x480 with 1 Axes>"
      ]
     },
     "metadata": {},
     "output_type": "display_data"
    }
   ],
   "source": [
    "grid_x = 35   # 东西向\n",
    "grid_y = 28   # 大概1度600米范围..\n",
    "grid_x_range = (east_bound - west_bound) / grid_x\n",
    "grid_y_range = (north_bound - south_bound) / grid_y\n",
    "print(grid_x_range, grid_y_range)\n",
    "grid = np.zeros((grid_x, grid_y))\n",
    "road_in = np.zeros((num_road, 2))\n",
    "road_intensity = np.zeros((num_road))\n",
    "for idx, road in df_road.iterrows():\n",
    "    coord = ast.literal_eval(road[1])\n",
    "    for i in [0, -1]:  # 起点终点\n",
    "        point = coord[i]\n",
    "        x_val = int(np.floor((point[0] - west_bound) / grid_x_range))\n",
    "        y_val = int(np.floor((point[1] - south_bound)/ grid_y_range))\n",
    "        grid[x_val, y_val] += 1\n",
    "        road_in[idx,i] = x_val * grid_x + y_val\n",
    "for idx in range(num_road):\n",
    "    start_block = road_in[idx,0]\n",
    "    end_block = road_in[idx, 1]\n",
    "    start_num = grid[int(start_block//grid_x), int(start_block%grid_x)]\n",
    "    end_num = grid[int(end_block//grid_x), int(end_block%grid_x)]\n",
    "    average_num = (start_num + end_num) / 2\n",
    "    road_intensity[idx] = average_num   # 这里的单位面积大约是600m*600m.\n",
    "\n",
    "print(road_intensity.max(), road_intensity.min())\n",
    "plt.hist(road_intensity)"
   ]
  },
  {
   "cell_type": "code",
   "execution_count": 12,
   "metadata": {},
   "outputs": [
    {
     "name": "stderr",
     "output_type": "stream",
     "text": [
      "C:\\Users\\admin\\AppData\\Local\\Temp\\ipykernel_28928\\1280357664.py:4: FutureWarning: Series.__getitem__ treating keys as positions is deprecated. In a future version, integer keys will always be treated as labels (consistent with DataFrame behavior). To access a value by position, use `ser.iloc[pos]`\n",
      "  origin_id = int(rel[1])\n",
      "C:\\Users\\admin\\AppData\\Local\\Temp\\ipykernel_28928\\1280357664.py:5: FutureWarning: Series.__getitem__ treating keys as positions is deprecated. In a future version, integer keys will always be treated as labels (consistent with DataFrame behavior). To access a value by position, use `ser.iloc[pos]`\n",
      "  target_id = int(rel[2])\n"
     ]
    },
    {
     "name": "stdout",
     "output_type": "stream",
     "text": [
      "0.0 11.0\n"
     ]
    },
    {
     "data": {
      "text/plain": [
       "(array([4.8000e+01, 2.4220e+03, 3.2640e+03, 8.4190e+03, 6.1870e+03,\n",
       "        1.2723e+04, 4.0640e+03, 8.7000e+02, 2.0000e+01, 1.0000e+01]),\n",
       " array([ 0. ,  1.1,  2.2,  3.3,  4.4,  5.5,  6.6,  7.7,  8.8,  9.9, 11. ]),\n",
       " <BarContainer object of 10 artists>)"
      ]
     },
     "execution_count": 12,
     "metadata": {},
     "output_type": "execute_result"
    },
    {
     "data": {
      "image/png": "[encoded data removed]",
      "text/plain": [
       "<Figure size 640x480 with 1 Axes>"
      ]
     },
     "metadata": {},
     "output_type": "display_data"
    }
   ],
   "source": [
    "# 计算度，degree.\n",
    "degree = np.zeros((num_road))\n",
    "for idx, rel in df_rel.iterrows():\n",
    "    origin_id = int(rel[1])\n",
    "    target_id = int(rel[2])\n",
    "    degree[origin_id] += 1\n",
    "    degree[target_id] += 1\n",
    "print(degree.min(), degree.max())\n",
    "plt.hist(degree)"
   ]
  },
  {
   "cell_type": "code",
   "execution_count": 14,
   "metadata": {},
   "outputs": [
    {
     "name": "stderr",
     "output_type": "stream",
     "text": [
      "C:\\Users\\admin\\AppData\\Local\\Temp\\ipykernel_28928\\3695784716.py:8: FutureWarning: Series.__getitem__ treating keys as positions is deprecated. In a future version, integer keys will always be treated as labels (consistent with DataFrame behavior). To access a value by position, use `ser.iloc[pos]`\n",
      "  highway = int(road[2])\n"
     ]
    },
    {
     "name": "stdout",
     "output_type": "stream",
     "text": [
      "(38027, 31)\n"
     ]
    }
   ],
   "source": [
    "degree_dim = 8\n",
    "intensity_dim = 8\n",
    "num_highway = 13\n",
    "n_features = num_highway + 1 + degree_dim + 1 + intensity_dim\n",
    "\n",
    "highway_code = np.zeros((num_road, num_highway))\n",
    "for idx, road in df_road.iterrows():\n",
    "    highway = int(road[2])\n",
    "    if highway != 0:\n",
    "        highway_code[idx, highway-1] = 1\n",
    "\n",
    "degree_embd = np.zeros((num_road, degree_dim))\n",
    "first = True\n",
    "for i in range(degree_dim):\n",
    "    if first:\n",
    "        tmp = degree\n",
    "        first = False\n",
    "    else:\n",
    "        tmp = 2 * tmp\n",
    "    degree_embd[:, i] = np.sin(tmp)\n",
    "\n",
    "intensity_embd = np.zeros((num_road, intensity_dim))\n",
    "first = True\n",
    "for i in range(intensity_dim):\n",
    "    if first:\n",
    "        tmp = road_intensity\n",
    "        first = False\n",
    "    else:\n",
    "        tmp = 2 * tmp\n",
    "    intensity_embd[:,i] = np.sin(tmp)\n",
    "\n",
    "road_features = np.float32(np.concatenate((highway_code, degree[:,np.newaxis], degree_embd, road_intensity[:,np.newaxis], intensity_embd), axis=1))\n",
    "print(road_features.shape)\n",
    "with open(\"road_features.pkl\", \"wb\") as f:\n",
    "    pickle.dump(road_features, f)"
   ]
  },
  {
   "cell_type": "markdown",
   "metadata": {},
   "source": [
    "下面预处理traj. 取出有效的traj, 其轨迹的路段编号数组(opath)，其起点和终点的坐标(注意是匹配后的点.)，其起点和终点的速度... (先不求每个路段上的平均速度来做约束了,...看看效果先.)\n",
    "它将作为数据集使用.\n",
    "注意，这里导出的轨迹信息将作为数据集使用，其id和原本的traj_id并不对应(没有考虑跳过的情况.), 但是有一个单独的traj_id的域.\n",
    "\n",
    "数据集中每一项是一个元组：  \n",
    "**( traj_id, 起始点在路径上对应的匹配点的位置，终点在路径上对应的匹配点的位置，起始点的速度，终点的速度，路径中每个路段的id )**"
   ]
  },
  {
   "cell_type": "code",
   "execution_count": 20,
   "metadata": {},
   "outputs": [
    {
     "name": "stdout",
     "output_type": "stream",
     "text": [
      "17600 trajs in total, 16967 is successfully matched.\n"
     ]
    }
   ],
   "source": [
    "# cpath: 需要的路径(编号.). opath, 每个点匹配到的路段的编号.\n",
    "df_traj_raw = pd.read_csv(\"../database/data/traj.csv\")\n",
    "df_traj = pd.read_csv(\"../database/fmm/fmm_all_fields.csv\", delimiter=\";\")\n",
    "\n",
    "# 每个轨迹的起点和终点速度.\n",
    "start_end_speed = {}  # tid->speeds\n",
    "traj_id = -1\n",
    "speeds = np.zeros((2))\n",
    "for idx, raw_traj in df_traj_raw.iterrows():\n",
    "    tid = raw_traj['traj_id']\n",
    "    speed = raw_traj['speeds']\n",
    "    if traj_id != tid:\n",
    "        if traj_id != -1:\n",
    "            start_end_speed[traj_id] = speeds\n",
    "        traj_id = tid\n",
    "        speeds = np.array([speed, speed])\n",
    "    else:\n",
    "        speeds[1] = speed\n",
    "start_end_speed[traj_id] = speeds\n",
    "\n",
    "def ParseLineString(linestring:str, idx:list = None):\n",
    "    '''\n",
    "    按照idx列表中指定的索引返回一个数组，里面每个元素是代表一个点的长度为2的list，idx为None则按顺序返回所有点形成的list.\n",
    "    '''\n",
    "    nums_str = linestring[11:-1]\n",
    "    points_str = nums_str.split(',')\n",
    "    if idx is None:\n",
    "        ret = map(lambda s: ast.literal_eval('[{}]'.format(s.replace(' ', ',', 1))), points_str)\n",
    "    ret = [ast.literal_eval('[{}]'.format(points_str[i].replace(' ', ',', 1))) for i in idx]\n",
    "    return ret\n",
    "\n",
    "\n",
    "total_traj_num = df_traj['id'].count()\n",
    "valid = 0\n",
    "traj_data = []\n",
    "for idx, traj in df_traj.iterrows():\n",
    "    tid = traj['id']\n",
    "    try:\n",
    "        road_path_ids = ast.literal_eval('[{}]'.format(traj['cpath']))\n",
    "    except:\n",
    "        continue   # [nan]，没有数据，没有匹配成功\n",
    "    if len(road_path_ids) == 0:\n",
    "        continue\n",
    "    start_end_matched_points = ParseLineString(traj['pgeom'], [0, -1])\n",
    "    speeds = start_end_speed[tid]\n",
    "    entry = (tid, start_end_matched_points[0], start_end_matched_points[1], speeds[0], speeds[1], road_path_ids)\n",
    "    traj_data.append(entry)\n",
    "    valid += 1\n",
    "\n",
    "traj_data.sort(key=lambda x: x[0])\n",
    "print(\"{} trajs in total, {} is successfully matched.\".format(total_traj_num, valid))\n",
    "with open(\"traj_data.pkl\", \"wb\") as f:\n",
    "    pickle.dump(traj_data, f)"
   ]
  }
 ],
 "metadata": {
  "kernelspec": {
   "display_name": "Python 3",
   "language": "python",
   "name": "python3"
  },
  "language_info": {
   "codemirror_mode": {
    "name": "ipython",
    "version": 3
   },
   "file_extension": ".py",
   "mimetype": "text/x-python",
   "name": "python",
   "nbconvert_exporter": "python",
   "pygments_lexer": "ipython3",
   "version": "3.11.4"
  }
 },
 "nbformat": 4,
 "nbformat_minor": 2
}
